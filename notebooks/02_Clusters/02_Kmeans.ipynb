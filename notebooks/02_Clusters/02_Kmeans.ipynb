{
 "cells": [
  {
   "cell_type": "code",
   "execution_count": 2,
   "metadata": {},
   "outputs": [],
   "source": [
    "import pandas as pd\n",
    "import numpy as np\n",
    "import sys\n",
    "sys.path.append(\"../../\")\n",
    "from src import soporte_clustering as sc\n",
    "\n",
    "\n",
    "\n",
    "from sklearn.cluster import KMeans\n",
    "from sklearn.metrics import silhouette_score\n",
    "from sklearn.metrics import davies_bouldin_score\n",
    "from sklearn.cluster import AgglomerativeClustering\n",
    "\n",
    "import warnings\n",
    "warnings.filterwarnings('ignore')"
   ]
  },
  {
   "cell_type": "code",
   "execution_count": 3,
   "metadata": {},
   "outputs": [],
   "source": [
    "df = pd.read_csv('../../data/cooked/datos_preprocesamiento.csv', encoding='ISO-8859-1', index_col=0)"
   ]
  },
  {
   "cell_type": "code",
   "execution_count": 4,
   "metadata": {},
   "outputs": [],
   "source": [
    "GestorCluster = sc.Clustering(df)"
   ]
  },
  {
   "cell_type": "code",
   "execution_count": 5,
   "metadata": {},
   "outputs": [],
   "source": [
    "# GestorCluster.sacar_clusters_kmeans()"
   ]
  },
  {
   "cell_type": "markdown",
   "metadata": {},
   "source": [
    "> Decido quedarme con 4 clusters en relacion a la distancia a su anterior"
   ]
  },
  {
   "cell_type": "code",
   "execution_count": 6,
   "metadata": {},
   "outputs": [
    {
     "data": {
      "text/html": [
       "<div>\n",
       "<style scoped>\n",
       "    .dataframe tbody tr th:only-of-type {\n",
       "        vertical-align: middle;\n",
       "    }\n",
       "\n",
       "    .dataframe tbody tr th {\n",
       "        vertical-align: top;\n",
       "    }\n",
       "\n",
       "    .dataframe thead th {\n",
       "        text-align: right;\n",
       "    }\n",
       "</style>\n",
       "<table border=\"1\" class=\"dataframe\">\n",
       "  <thead>\n",
       "    <tr style=\"text-align: right;\">\n",
       "      <th></th>\n",
       "      <th>Order Date</th>\n",
       "      <th>Ship Mode</th>\n",
       "      <th>Segment</th>\n",
       "      <th>City</th>\n",
       "      <th>State</th>\n",
       "      <th>Country</th>\n",
       "      <th>Market</th>\n",
       "      <th>Region</th>\n",
       "      <th>Product ID</th>\n",
       "      <th>Category</th>\n",
       "      <th>Sub-Category</th>\n",
       "      <th>Product Name</th>\n",
       "      <th>Sales</th>\n",
       "      <th>Quantity</th>\n",
       "      <th>Discount</th>\n",
       "      <th>Shipping Cost</th>\n",
       "      <th>Order Priority</th>\n",
       "      <th>Profit_respuesta</th>\n",
       "      <th>clusters_kmeans</th>\n",
       "    </tr>\n",
       "  </thead>\n",
       "  <tbody>\n",
       "    <tr>\n",
       "      <th>0</th>\n",
       "      <td>0.000565</td>\n",
       "      <td>0.052661</td>\n",
       "      <td>0.517021</td>\n",
       "      <td>0.017840</td>\n",
       "      <td>0.021993</td>\n",
       "      <td>0.194853</td>\n",
       "      <td>0.194853</td>\n",
       "      <td>0.055527</td>\n",
       "      <td>0.000195</td>\n",
       "      <td>0.197719</td>\n",
       "      <td>0.059953</td>\n",
       "      <td>0.000195</td>\n",
       "      <td>4.231596</td>\n",
       "      <td>1.546227</td>\n",
       "      <td>-0.673210</td>\n",
       "      <td>15.833395</td>\n",
       "      <td>0.076662</td>\n",
       "      <td>762.1845</td>\n",
       "      <td>3</td>\n",
       "    </tr>\n",
       "    <tr>\n",
       "      <th>1</th>\n",
       "      <td>0.000858</td>\n",
       "      <td>0.200994</td>\n",
       "      <td>0.300819</td>\n",
       "      <td>0.002554</td>\n",
       "      <td>0.015227</td>\n",
       "      <td>0.055313</td>\n",
       "      <td>0.214506</td>\n",
       "      <td>0.067986</td>\n",
       "      <td>0.000195</td>\n",
       "      <td>0.192552</td>\n",
       "      <td>0.066953</td>\n",
       "      <td>0.000487</td>\n",
       "      <td>7.102511</td>\n",
       "      <td>2.423903</td>\n",
       "      <td>-0.202129</td>\n",
       "      <td>15.659911</td>\n",
       "      <td>0.076662</td>\n",
       "      <td>-288.7650</td>\n",
       "      <td>0</td>\n",
       "    </tr>\n",
       "    <tr>\n",
       "      <th>2</th>\n",
       "      <td>0.000565</td>\n",
       "      <td>0.146325</td>\n",
       "      <td>0.517021</td>\n",
       "      <td>0.003470</td>\n",
       "      <td>0.013979</td>\n",
       "      <td>0.055313</td>\n",
       "      <td>0.214506</td>\n",
       "      <td>0.067986</td>\n",
       "      <td>0.000195</td>\n",
       "      <td>0.197719</td>\n",
       "      <td>0.065451</td>\n",
       "      <td>0.000468</td>\n",
       "      <td>10.108857</td>\n",
       "      <td>2.423903</td>\n",
       "      <td>-0.202129</td>\n",
       "      <td>15.517842</td>\n",
       "      <td>0.573855</td>\n",
       "      <td>919.9710</td>\n",
       "      <td>3</td>\n",
       "    </tr>\n",
       "    <tr>\n",
       "      <th>3</th>\n",
       "      <td>0.000702</td>\n",
       "      <td>0.146325</td>\n",
       "      <td>0.182160</td>\n",
       "      <td>0.004231</td>\n",
       "      <td>0.004231</td>\n",
       "      <td>0.040261</td>\n",
       "      <td>0.194970</td>\n",
       "      <td>0.216748</td>\n",
       "      <td>0.000078</td>\n",
       "      <td>0.197719</td>\n",
       "      <td>0.065451</td>\n",
       "      <td>0.000448</td>\n",
       "      <td>5.427057</td>\n",
       "      <td>0.668550</td>\n",
       "      <td>-0.202129</td>\n",
       "      <td>15.424817</td>\n",
       "      <td>0.573855</td>\n",
       "      <td>-96.5400</td>\n",
       "      <td>0</td>\n",
       "    </tr>\n",
       "    <tr>\n",
       "      <th>4</th>\n",
       "      <td>0.001228</td>\n",
       "      <td>0.052661</td>\n",
       "      <td>0.517021</td>\n",
       "      <td>0.001657</td>\n",
       "      <td>0.001657</td>\n",
       "      <td>0.002184</td>\n",
       "      <td>0.089433</td>\n",
       "      <td>0.089433</td>\n",
       "      <td>0.000019</td>\n",
       "      <td>0.197719</td>\n",
       "      <td>0.043342</td>\n",
       "      <td>0.000234</td>\n",
       "      <td>5.304919</td>\n",
       "      <td>1.985065</td>\n",
       "      <td>-0.673210</td>\n",
       "      <td>15.300550</td>\n",
       "      <td>0.076662</td>\n",
       "      <td>311.5200</td>\n",
       "      <td>3</td>\n",
       "    </tr>\n",
       "  </tbody>\n",
       "</table>\n",
       "</div>"
      ],
      "text/plain": [
       "   Order Date  Ship Mode   Segment      City     State   Country    Market  \\\n",
       "0    0.000565   0.052661  0.517021  0.017840  0.021993  0.194853  0.194853   \n",
       "1    0.000858   0.200994  0.300819  0.002554  0.015227  0.055313  0.214506   \n",
       "2    0.000565   0.146325  0.517021  0.003470  0.013979  0.055313  0.214506   \n",
       "3    0.000702   0.146325  0.182160  0.004231  0.004231  0.040261  0.194970   \n",
       "4    0.001228   0.052661  0.517021  0.001657  0.001657  0.002184  0.089433   \n",
       "\n",
       "     Region  Product ID  Category  Sub-Category  Product Name      Sales  \\\n",
       "0  0.055527    0.000195  0.197719      0.059953      0.000195   4.231596   \n",
       "1  0.067986    0.000195  0.192552      0.066953      0.000487   7.102511   \n",
       "2  0.067986    0.000195  0.197719      0.065451      0.000468  10.108857   \n",
       "3  0.216748    0.000078  0.197719      0.065451      0.000448   5.427057   \n",
       "4  0.089433    0.000019  0.197719      0.043342      0.000234   5.304919   \n",
       "\n",
       "   Quantity  Discount  Shipping Cost  Order Priority  Profit_respuesta  \\\n",
       "0  1.546227 -0.673210      15.833395        0.076662          762.1845   \n",
       "1  2.423903 -0.202129      15.659911        0.076662         -288.7650   \n",
       "2  2.423903 -0.202129      15.517842        0.573855          919.9710   \n",
       "3  0.668550 -0.202129      15.424817        0.573855          -96.5400   \n",
       "4  1.985065 -0.673210      15.300550        0.076662          311.5200   \n",
       "\n",
       "  clusters_kmeans  \n",
       "0               3  \n",
       "1               0  \n",
       "2               3  \n",
       "3               0  \n",
       "4               3  "
      ]
     },
     "execution_count": 6,
     "metadata": {},
     "output_type": "execute_result"
    }
   ],
   "source": [
    "df, labels  = GestorCluster.modelo_kmeans(df, 4)\n",
    "\n",
    "df.head()"
   ]
  },
  {
   "cell_type": "code",
   "execution_count": 7,
   "metadata": {},
   "outputs": [
    {
     "data": {
      "text/html": [
       "<div>\n",
       "<style scoped>\n",
       "    .dataframe tbody tr th:only-of-type {\n",
       "        vertical-align: middle;\n",
       "    }\n",
       "\n",
       "    .dataframe tbody tr th {\n",
       "        vertical-align: top;\n",
       "    }\n",
       "\n",
       "    .dataframe thead th {\n",
       "        text-align: right;\n",
       "    }\n",
       "</style>\n",
       "<table border=\"1\" class=\"dataframe\">\n",
       "  <thead>\n",
       "    <tr style=\"text-align: right;\">\n",
       "      <th></th>\n",
       "      <th>silhouette_score</th>\n",
       "      <th>davies_bouldin_index</th>\n",
       "      <th>cardinalidad</th>\n",
       "    </tr>\n",
       "  </thead>\n",
       "  <tbody>\n",
       "    <tr>\n",
       "      <th>0</th>\n",
       "      <td>0.842192</td>\n",
       "      <td>0.502514</td>\n",
       "      <td>48821</td>\n",
       "    </tr>\n",
       "  </tbody>\n",
       "</table>\n",
       "</div>"
      ],
      "text/plain": [
       "   silhouette_score  davies_bouldin_index  cardinalidad\n",
       "0          0.842192              0.502514         48821"
      ]
     },
     "execution_count": 7,
     "metadata": {},
     "output_type": "execute_result"
    }
   ],
   "source": [
    "GestorCluster.calcular_metricas(labels=labels)"
   ]
  },
  {
   "cell_type": "code",
   "execution_count": 8,
   "metadata": {},
   "outputs": [
    {
     "data": {
      "text/plain": [
       "clusters_kmeans\n",
       "0    48821\n",
       "3     1923\n",
       "1      513\n",
       "2       33\n",
       "Name: count, dtype: int64"
      ]
     },
     "execution_count": 8,
     "metadata": {},
     "output_type": "execute_result"
    }
   ],
   "source": [
    "df[\"clusters_kmeans\"].value_counts()"
   ]
  }
 ],
 "metadata": {
  "kernelspec": {
   "display_name": "Python 3",
   "language": "python",
   "name": "python3"
  },
  "language_info": {
   "codemirror_mode": {
    "name": "ipython",
    "version": 3
   },
   "file_extension": ".py",
   "mimetype": "text/x-python",
   "name": "python",
   "nbconvert_exporter": "python",
   "pygments_lexer": "ipython3",
   "version": "3.12.4"
  }
 },
 "nbformat": 4,
 "nbformat_minor": 2
}
